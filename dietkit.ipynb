{
 "cells": [
  {
   "cell_type": "code",
   "execution_count": 34,
   "metadata": {},
   "outputs": [],
   "source": [
    "from dietkit import load_ingredient, load_menu, load_diet, load_sample_criteria\n",
    "import pandas as pd\n",
    "\n",
    "sample_ingredients = load_ingredient(sample_language = 'eng')\n",
    "sample_menus = load_menu(ingredients = sample_ingredients, sample_language = 'eng')\n",
    "sample_diets = load_diet(menus = sample_menus, num_loads = 100, sample_language = 'eng', sample_name = 'ML')\n",
    "\n",
    "def get_ingredient_category(ingredient_name, ingredients):\n",
    "    return ingredients[ingredient_name].category\n",
    "\n",
    "all_categories = set([get_ingredient_category(ingredient, sample_ingredients) for ingredient in sample_ingredients])\n",
    "\n",
    "# convert sample menus to a dataframe\n",
    "sample_menus_df = pd.DataFrame.from_dict(sample_menus, orient = 'index')\n",
    "\n",
    "# rename sample menus column 0 to 'menu object'\n",
    "sample_menus_df.rename(columns = {0: 'object'}, inplace = True)\n",
    "\n",
    "# add a column for the menu category\n",
    "sample_menus_df['category'] = sample_menus_df['object'].apply(lambda x: x.category)\n",
    "# convert sample_menus_df category column to string\n",
    "sample_menus_df['category'] = sample_menus_df['category'].astype(str)\n",
    "\n",
    "# get nutrition from object\n",
    "# sample_menus_df.iloc[0]['menu object'].nutrition\n",
    "\n",
    "def sample_from_menu_category(sample_menus_df, category):\n",
    "    return sample_menus_df[sample_menus_df['category'] == category].sample(1)"
   ]
  },
  {
   "cell_type": "code",
   "execution_count": 61,
   "metadata": {},
   "outputs": [
    {
     "data": {
      "text/html": [
       "<div>\n",
       "<style scoped>\n",
       "    .dataframe tbody tr th:only-of-type {\n",
       "        vertical-align: middle;\n",
       "    }\n",
       "\n",
       "    .dataframe tbody tr th {\n",
       "        vertical-align: top;\n",
       "    }\n",
       "\n",
       "    .dataframe thead th {\n",
       "        text-align: right;\n",
       "    }\n",
       "</style>\n",
       "<table border=\"1\" class=\"dataframe\">\n",
       "  <thead>\n",
       "    <tr style=\"text-align: right;\">\n",
       "      <th></th>\n",
       "      <th>object</th>\n",
       "      <th>category</th>\n",
       "    </tr>\n",
       "  </thead>\n",
       "  <tbody>\n",
       "    <tr>\n",
       "      <th>S kiwi (100g)</th>\n",
       "      <td>Menu object: S kiwi (100g)</td>\n",
       "      <td>Fruits (snack)</td>\n",
       "    </tr>\n",
       "  </tbody>\n",
       "</table>\n",
       "</div>"
      ],
      "text/plain": [
       "                                   object        category\n",
       "S kiwi (100g)  Menu object: S kiwi (100g)  Fruits (snack)"
      ]
     },
     "execution_count": 61,
     "metadata": {},
     "output_type": "execute_result"
    }
   ],
   "source": [
    "sample_from_menu_category(sample_menus_df, 'Fruits (snack)')"
   ]
  },
  {
   "cell_type": "code",
   "execution_count": 26,
   "metadata": {},
   "outputs": [],
   "source": [
    "def get_menu_category(menu_name, menus):\n",
    "    return menus[menu_name].category\n",
    "\n",
    "rep_menus = [get_menu_category(menu, sample_menus) for menu in sample_menus]"
   ]
  },
  {
   "cell_type": "code",
   "execution_count": 28,
   "metadata": {},
   "outputs": [],
   "source": [
    "import pandas as pd\n",
    "all_menu_categories = []\n",
    "for menu in rep_menus:\n",
    "    # make sure menu is not pandas series\n",
    "    if not type(menu) == pd.core.series.Series:\n",
    "        if not menu in all_menu_categories:\n",
    "            all_menu_categories.append(menu)"
   ]
  },
  {
   "cell_type": "code",
   "execution_count": 31,
   "metadata": {},
   "outputs": [
    {
     "data": {
      "text/plain": [
       "['Fruits (snack)',\n",
       " 'Salad (snack)',\n",
       " 'Milk (snack)',\n",
       " 'Drink (snack)',\n",
       " 'Combo meal (snack)',\n",
       " 'Soup (snack)',\n",
       " 'Nuts (snack)',\n",
       " 'Grains (snack)',\n",
       " 'Cereal (snack)',\n",
       " 'Rice',\n",
       " 'Noodles',\n",
       " 'Combo meal rice',\n",
       " 'Soup',\n",
       " 'Salad',\n",
       " 'Deep fried',\n",
       " 'Braised',\n",
       " 'Grilled',\n",
       " 'Steamed',\n",
       " 'Stir-fried',\n",
       " 'Pancake',\n",
       " 'Kimchi',\n",
       " 'Others']"
      ]
     },
     "execution_count": 31,
     "metadata": {},
     "output_type": "execute_result"
    }
   ],
   "source": [
    "all_menu_categories"
   ]
  },
  {
   "cell_type": "code",
   "execution_count": null,
   "metadata": {},
   "outputs": [],
   "source": []
  }
 ],
 "metadata": {
  "kernelspec": {
   "display_name": "Python 3",
   "language": "python",
   "name": "python3"
  },
  "language_info": {
   "codemirror_mode": {
    "name": "ipython",
    "version": 3
   },
   "file_extension": ".py",
   "mimetype": "text/x-python",
   "name": "python",
   "nbconvert_exporter": "python",
   "pygments_lexer": "ipython3",
   "version": "3.8.12"
  },
  "orig_nbformat": 4,
  "vscode": {
   "interpreter": {
    "hash": "6597d1ed23b894caf154b6750f098a8514a19e03807460ffd2d8425103778dc0"
   }
  }
 },
 "nbformat": 4,
 "nbformat_minor": 2
}
