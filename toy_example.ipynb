{
 "cells": [
  {
   "attachments": {},
   "cell_type": "markdown",
   "metadata": {},
   "source": [
    "# Toy example with custom environment"
   ]
  },
  {
   "cell_type": "code",
   "execution_count": 1,
   "metadata": {},
   "outputs": [],
   "source": [
    "import numpy as np\n",
    "import pandas as pd\n",
    "from meal_planning_environment import MealPlanningEnv\n",
    "from dietkit import (load_ingredient, load_menu, load_diet)"
   ]
  },
  {
   "cell_type": "code",
   "execution_count": 2,
   "metadata": {},
   "outputs": [
    {
     "data": {
      "text/plain": [
       "array(['meal1', 'meal2', 'meal3'], dtype='<U5')"
      ]
     },
     "metadata": {},
     "output_type": "display_data"
    },
    {
     "data": {
      "text/html": [
       "<div>\n",
       "<style scoped>\n",
       "    .dataframe tbody tr th:only-of-type {\n",
       "        vertical-align: middle;\n",
       "    }\n",
       "\n",
       "    .dataframe tbody tr th {\n",
       "        vertical-align: top;\n",
       "    }\n",
       "\n",
       "    .dataframe thead th {\n",
       "        text-align: right;\n",
       "    }\n",
       "</style>\n",
       "<table border=\"1\" class=\"dataframe\">\n",
       "  <thead>\n",
       "    <tr style=\"text-align: right;\">\n",
       "      <th></th>\n",
       "      <th>calories</th>\n",
       "      <th>protein</th>\n",
       "      <th>carbs</th>\n",
       "      <th>fat</th>\n",
       "    </tr>\n",
       "  </thead>\n",
       "  <tbody>\n",
       "    <tr>\n",
       "      <th>meal1</th>\n",
       "      <td>200</td>\n",
       "      <td>20</td>\n",
       "      <td>30</td>\n",
       "      <td>10</td>\n",
       "    </tr>\n",
       "    <tr>\n",
       "      <th>meal2</th>\n",
       "      <td>300</td>\n",
       "      <td>30</td>\n",
       "      <td>40</td>\n",
       "      <td>20</td>\n",
       "    </tr>\n",
       "    <tr>\n",
       "      <th>meal3</th>\n",
       "      <td>400</td>\n",
       "      <td>40</td>\n",
       "      <td>50</td>\n",
       "      <td>30</td>\n",
       "    </tr>\n",
       "  </tbody>\n",
       "</table>\n",
       "</div>"
      ],
      "text/plain": [
       "       calories  protein  carbs  fat\n",
       "meal1       200       20     30   10\n",
       "meal2       300       30     40   20\n",
       "meal3       400       40     50   30"
      ]
     },
     "metadata": {},
     "output_type": "display_data"
    },
    {
     "name": "stdout",
     "output_type": "stream",
     "text": [
      "Step: 1\n",
      "Chosen Meal: meal2\n",
      "Meal History: ['meal2' 'meal3' 'meal3' 'meal3' 'meal3']\n",
      "Nutrition History: [[300.  30.  40.  20.]\n",
      " [  0.   0.   0.   0.]\n",
      " [  0.   0.   0.   0.]\n",
      " [  0.   0.   0.   0.]\n",
      " [  0.   0.   0.   0.]]\n",
      "Goal Nutrition: [1500.  150.  200.  100.]\n",
      "Current Nutrition: [300.  30.  40.  20.]\n",
      "Reward: -1560.0\n",
      "Done?: False\n",
      "Step: 2\n",
      "Chosen Meal: meal3\n",
      "Meal History: ['meal2' 'meal3' 'meal3' 'meal3' 'meal3']\n",
      "Nutrition History: [[300.  30.  40.  20.]\n",
      " [400.  40.  50.  30.]\n",
      " [  0.   0.   0.   0.]\n",
      " [  0.   0.   0.   0.]\n",
      " [  0.   0.   0.   0.]]\n",
      "Goal Nutrition: [1500.  150.  200.  100.]\n",
      "Current Nutrition: [700.  70.  90.  50.]\n",
      "Reward: -1040.0\n",
      "Done?: False\n",
      "Step: 3\n",
      "Chosen Meal: meal3\n",
      "Meal History: ['meal2' 'meal3' 'meal3' 'meal3' 'meal3']\n",
      "Nutrition History: [[300.  30.  40.  20.]\n",
      " [400.  40.  50.  30.]\n",
      " [400.  40.  50.  30.]\n",
      " [  0.   0.   0.   0.]\n",
      " [  0.   0.   0.   0.]]\n",
      "Goal Nutrition: [1500.  150.  200.  100.]\n",
      "Current Nutrition: [1100.  110.  140.   80.]\n",
      "Reward: -520.0\n",
      "Done?: False\n",
      "Step: 4\n",
      "Chosen Meal: meal1\n",
      "Meal History: ['meal2' 'meal3' 'meal3' 'meal1' 'meal3']\n",
      "Nutrition History: [[300.  30.  40.  20.]\n",
      " [400.  40.  50.  30.]\n",
      " [400.  40.  50.  30.]\n",
      " [200.  20.  30.  10.]\n",
      " [  0.   0.   0.   0.]]\n",
      "Goal Nutrition: [1500.  150.  200.  100.]\n",
      "Current Nutrition: [1300.  130.  170.   90.]\n",
      "Reward: -260.0\n",
      "Done?: False\n",
      "Step: 5\n",
      "Chosen Meal: meal3\n",
      "Meal History: ['meal2' 'meal3' 'meal3' 'meal1' 'meal3']\n",
      "Nutrition History: [[300.  30.  40.  20.]\n",
      " [400.  40.  50.  30.]\n",
      " [400.  40.  50.  30.]\n",
      " [200.  20.  30.  10.]\n",
      " [400.  40.  50.  30.]]\n",
      "Goal Nutrition: [1500.  150.  200.  100.]\n",
      "Current Nutrition: [1700.  170.  220.  120.]\n",
      "Reward: -260.0\n",
      "Done?: True\n"
     ]
    }
   ],
   "source": [
    "# make dummy data\n",
    "possible_meals = np.array(['meal1', 'meal2', 'meal3'])\n",
    "nutrition_data = pd.DataFrame({\n",
    "    'calories': [200, 300, 400],\n",
    "    'protein': [20, 30, 40],\n",
    "    'carbs': [30, 40, 50],\n",
    "    'fat': [10, 20, 30]\n",
    "}, index=possible_meals)\n",
    "display(possible_meals)\n",
    "display(nutrition_data)\n",
    "\n",
    "class RandomAgent:\n",
    "    def __init__(self, action_space):\n",
    "        self.action_space = action_space\n",
    "\n",
    "    def act(self, observation, reward, done):\n",
    "        return self.action_space.sample()\n",
    "\n",
    "\n",
    "# create one meal plan of 5 meals\n",
    "num_meals = 5\n",
    "env = MealPlanningEnv(possible_meals=possible_meals, nutrition_data=nutrition_data, num_meals=num_meals)\n",
    "agent = RandomAgent(env.action_space)\n",
    "observation = env.reset()\n",
    "for _ in range(num_meals):\n",
    "    action = agent.act(observation, reward=None, done=False)\n",
    "    observation, reward, done, info = env.step(action)\n",
    "    env.render()\n",
    "    print(f'Done?: {done}')\n",
    "env.close()"
   ]
  },
  {
   "cell_type": "code",
   "execution_count": null,
   "metadata": {},
   "outputs": [],
   "source": []
  }
 ],
 "metadata": {
  "kernelspec": {
   "display_name": "fivejelly",
   "language": "python",
   "name": "python3"
  },
  "language_info": {
   "codemirror_mode": {
    "name": "ipython",
    "version": 3
   },
   "file_extension": ".py",
   "mimetype": "text/x-python",
   "name": "python",
   "nbconvert_exporter": "python",
   "pygments_lexer": "ipython3",
   "version": "3.9.16"
  },
  "orig_nbformat": 4
 },
 "nbformat": 4,
 "nbformat_minor": 2
}
