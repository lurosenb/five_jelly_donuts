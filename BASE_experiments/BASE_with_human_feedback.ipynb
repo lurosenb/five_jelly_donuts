{
 "cells": [
  {
   "attachments": {},
   "cell_type": "markdown",
   "metadata": {},
   "source": [
    "# TODO: \n",
    "1. have this spit out a proposed meal. \n",
    "2. In natural text, feed to chatgpt and ask it to rate\n",
    "3. parse the rating and incorporate as reward.\n"
   ]
  },
  {
   "cell_type": "code",
   "execution_count": null,
   "metadata": {},
   "outputs": [],
   "source": []
  },
  {
   "cell_type": "code",
   "execution_count": 26,
   "metadata": {},
   "outputs": [],
   "source": [
    "import openai\n",
    "import pandas as pd\n",
    "import re\n",
    "\n",
    "prompt_types = {\n",
    "    'Lucas': 'I am a 6ft tall 25 year old male, 168 pounds. I am very active.\\\n",
    "        Please rate the following proposed meal on a scale of 1-10, where\\\n",
    "              1 is an unhealthy or unnatural and 10 is a perfect, balanced healthy meal.\\n',\n",
    "}\n",
    "\n",
    "def create_prompt(meal_selections, person_type='Lucas'):\n",
    "    prompt = prompt_types[person_type]\n",
    "    for meal_type, meal_value in meal_selections.items():\n",
    "        prompt += f'{meal_type}: {meal_value}\\n'\n",
    "    prompt += 'Please explain your answer, but end with a single numeric rating.'\n",
    "    return prompt\n",
    "\n",
    "def parse_meal_rating(response):\n",
    "    # try to find a number in the response\n",
    "    try:\n",
    "        # 'a X out of 10'\n",
    "        num = re.search(r'\\d+',re.search(r'\\d+ out of \\d+', response).group()).group()\n",
    "    except:\n",
    "        try:\n",
    "            # 'a X/10'\n",
    "            num = re.search(r'\\d+',re.search(r'\\d+/\\d+', response).group()).group()\n",
    "        except:\n",
    "            # 'a X'\n",
    "            num = re.search(r'\\d+', response).group()\n",
    "        \n",
    "    return int(num)\n",
    "\n",
    "with open('gpt_key.txt', 'r') as file:\n",
    "    openai.api_key = file.read().rstrip()\n",
    "\n",
    "def get_reward_from_chatgpt(proposed_meal, verbose=False):\n",
    "    \"\"\"\n",
    "    Given a proposed meal, get a reward from the chatgpt model.\n",
    "    \"\"\"\n",
    "    resp = openai.ChatCompletion.create(\n",
    "        model=\"gpt-3.5-turbo\",\n",
    "        messages=[\n",
    "                {\"role\": \"system\", \"content\": \"You are a helpful assistant and an expert in nutrition and meal planning.\"},\n",
    "                {\"role\": \"user\", \"content\": create_prompt(proposed_meal)},\n",
    "            ]\n",
    "    )\n",
    "    text = resp['choices'][0]['message']['content']\n",
    "    if verbose:\n",
    "        print(text)\n",
    "    return parse_meal_rating(text)\n",
    "\n"
   ]
  },
  {
   "cell_type": "code",
   "execution_count": 27,
   "metadata": {},
   "outputs": [
    {
     "name": "stdout",
     "output_type": "stream",
     "text": [
      "I am a 6ft tall 25 year old male, 168 pounds. I am very active.        Please rate the following proposed meal on a scale of 1-10, where              1 is an unhealthy or unnatural and 10 is a perfect, balanced healthy meal.\n",
      "breakfast: eggs and bacon\n",
      "lunch: chicken and rice\n",
      "dinner: steak and potatoes\n",
      "Please explain your answer, but end with a single numeric rating.\n"
     ]
    }
   ],
   "source": [
    "sample_meal_set = {'breakfast': 'eggs and bacon', 'lunch': 'chicken and rice', 'dinner': 'steak and potatoes'}\n",
    "print(create_prompt(sample_meal_set))"
   ]
  },
  {
   "cell_type": "code",
   "execution_count": 28,
   "metadata": {},
   "outputs": [
    {
     "name": "stdout",
     "output_type": "stream",
     "text": [
      "6\n"
     ]
    }
   ],
   "source": [
    "print(get_reward_from_chatgpt(sample_meal_set))\n"
   ]
  },
  {
   "cell_type": "code",
   "execution_count": 33,
   "metadata": {},
   "outputs": [],
   "source": [
    "from dietkit import load_ingredient, load_menu, load_diet, load_sample_criteria\n",
    "import pandas as pd\n",
    "\n",
    "sample_ingredients = load_ingredient(sample_language = 'eng')\n",
    "sample_menus = load_menu(ingredients = sample_ingredients, sample_language = 'eng')\n",
    "sample_diets = load_diet(menus = sample_menus, num_loads = 100, sample_language = 'eng', sample_name = 'ML')\n",
    "\n",
    "def get_ingredient_category(ingredient_name, ingredients):\n",
    "    return ingredients[ingredient_name].category\n",
    "\n",
    "all_categories = set([get_ingredient_category(ingredient, sample_ingredients) for ingredient in sample_ingredients])\n",
    "\n",
    "# convert sample menus to a dataframe\n",
    "sample_menus_df = pd.DataFrame.from_dict(sample_menus, orient = 'index')\n",
    "\n",
    "# rename sample menus column 0 to 'menu object'\n",
    "sample_menus_df.rename(columns = {0: 'object'}, inplace = True)\n",
    "\n",
    "# add a column for the menu category\n",
    "sample_menus_df['category'] = sample_menus_df['object'].apply(lambda x: x.category)\n",
    "# convert sample_menus_df category column to string\n",
    "sample_menus_df['category'] = sample_menus_df['category'].astype(str)\n",
    "\n",
    "# get nutrition from object\n",
    "# sample_menus_df.iloc[0]['menu object'].nutrition\n",
    "\n",
    "def sample_from_menu_category(sample_menus_df, category):\n",
    "    print(category)\n",
    "    return sample_menus_df[sample_menus_df['category'] == category].sample(1)"
   ]
  },
  {
   "cell_type": "code",
   "execution_count": 34,
   "metadata": {},
   "outputs": [
    {
     "name": "stderr",
     "output_type": "stream",
     "text": [
      "UsageError: Line magic function `%` not found.\n"
     ]
    }
   ],
   "source": [
    "\n",
    "\n",
    "%     K: arms\n",
    "\n",
    "%     TSeq: horizon\n",
    "\n",
    "%     M: number of batches\n",
    "\n",
    "%     b = T^(1/M); TGridAdaptive = floor(b.^(1:M));...,\n",
    "\n",
    "%         TGridAdaptive = floor(TGridAdaptive/K) * K; TGridAdaptive(M) = T; ...,\n",
    "\n",
    "%         TGridAdaptive = [0,TGridAdaptive]; % adaptive batch grids\n",
    "\n",
    "%     a = T^(1/(2 - 2^(1-M))); TGridMinimax = floor(a.^(2.-1./2.^(0:M-1)));...,\n",
    "\n",
    "%     TGridMinimax(M) = T; ...,\n",
    "\n",
    "%     TGridMinimax = [0,TGridMinimax]; % minimax batch grids    \n",
    "\n",
    "%     mu: batch mean\n",
    "\n",
    "%     gamma: tunning parameter"
   ]
  },
  {
   "cell_type": "code",
   "execution_count": 35,
   "metadata": {},
   "outputs": [],
   "source": [
    "arms = ['Fruits (snack)',\n",
    " 'Salad (snack)',\n",
    " 'Milk (snack)',\n",
    " 'Drink (snack)',\n",
    " 'Combo meal (snack)',\n",
    " 'Soup (snack)',\n",
    " 'Nuts (snack)',\n",
    " 'Grains (snack)',\n",
    " 'Cereal (snack)',\n",
    " 'Rice',\n",
    " 'Noodles',\n",
    " 'Combo meal rice',\n",
    " 'Soup',\n",
    " 'Salad',\n",
    " 'Deep fried',\n",
    " 'Braised',\n",
    " 'Grilled',\n",
    " 'Steamed',\n",
    " 'Stir-fried',\n",
    " 'Pancake',\n",
    " 'Kimchi']"
   ]
  },
  {
   "cell_type": "code",
   "execution_count": 36,
   "metadata": {},
   "outputs": [
    {
     "name": "stdout",
     "output_type": "stream",
     "text": [
      "Fruits (snack)\n",
      "Salad (snack)\n",
      "Milk (snack)\n",
      "Drink (snack)\n",
      "Combo meal (snack)\n",
      "Soup (snack)\n",
      "Nuts (snack)\n",
      "Grains (snack)\n",
      "Cereal (snack)\n",
      "Rice\n",
      "Noodles\n",
      "Combo meal rice\n",
      "Soup\n",
      "Salad\n",
      "Deep fried\n",
      "Braised\n",
      "Grilled\n",
      "Steamed\n",
      "Stir-fried\n",
      "Pancake\n",
      "Kimchi\n"
     ]
    },
    {
     "data": {
      "text/plain": [
       "{'meal 0': 'nectarine -60g (Energy: 19.2, Protein: 0.558, Fat: 0.03, Carbohydrate: 4.71, Total Dietary: 2.28, Calcium: 3.6, Iron: 0.114, Sodium: 0.0, Vitamin A: 4.6999999998, Vitamin B1 (Thiamine): 0.0168, Vitamin B2 (Rivoflavin): 0.010799999999999999, Vitamin C: 1.014, Linoleic Acid: 10.631999999999998, Alpha-Linolenic Acid: 3.378, )',\n",
       " 'meal 1': 'cucumber stick (Energy: 4.2, Protein: 0.366, Fat: 0.006, Carbohydrate: 0.915, Total Dietary: 0.21, Calcium: 5.4, Iron: 0.06, Sodium: 0.9, Vitamin A: 1.5249999999, Vitamin B1 (Thiamine): 0.0006, Vitamin B2 (Rivoflavin): 0.0102, Vitamin C: 3.375, Linoleic Acid: 2.457, Alpha-Linolenic Acid: 2.0429999999999997, )',\n",
       " 'meal 2': 'milk (100ml) (Energy: 65.0, Protein: 3.08, Fat: 3.32, Carbohydrate: 5.53, Total Dietary: 0.0, Calcium: 113.0, Iron: 0.05, Sodium: 36.0, Vitamin A: 55.0, Vitamin B1 (Thiamine): 0.021, Vitamin B2 (Rivoflavin): 0.162, Vitamin C: 0.79, Linoleic Acid: 73.78, Alpha-Linolenic Acid: 7.6, )',\n",
       " 'meal 3': 'barley tea (Energy: 0.0, Protein: 0.0, Fat: 0.0, Carbohydrate: 0.07, Total Dietary: 0.0, Calcium: 2.0, Iron: 0.0, Sodium: 1.0, Vitamin A: 0.0, Vitamin B1 (Thiamine): 0.0, Vitamin B2 (Rivoflavin): 0.0, Vitamin C: 0.0, Linoleic Acid: 0.31, Alpha-Linolenic Acid: 0.0, )',\n",
       " 'meal 4': 'sujebi (Energy: 202.46, Protein: 6.6667000000000005, Fat: 0.6313, Carbohydrate: 40.3661, Total Dietary: 1.9050000000000002, Calcium: 53.83, Iron: 0.6945, Sodium: 45.47, Vitamin A: 24.34750000165, Vitamin B1 (Thiamine): 0.09326000000000001, Vitamin B2 (Rivoflavin): 0.02468, Vitamin C: 1.4566999999999999, Linoleic Acid: 280.4884, Alpha-Linolenic Acid: 20.513, )',\n",
       " 'meal 5': 'chwinamul soy paste porridge (Energy: 116.814, Protein: 3.2887000000000004, Fat: 1.49808, Carbohydrate: 21.77568, Total Dietary: 0.72, Calcium: 64.936, Iron: 1.5597, Sodium: 96.45199999999998, Vitamin A: 28.869333328253997, Vitamin B1 (Thiamine): 0.07605, Vitamin B2 (Rivoflavin): 0.08579, Vitamin C: 1.9289999999999998, Linoleic Acid: 514.9384, Alpha-Linolenic Acid: 34.178140000000006, )',\n",
       " 'meal 6': 'peanut (Energy: 11.34, Protein: 0.57, Fat: 0.9248000000000001, Carbohydrate: 0.3982, Total Dietary: 0.21, Calcium: 1.34, Iron: 0.04019999999999999, Sodium: 0.08, Vitamin A: 0.00833333334, Vitamin B1 (Thiamine): 0.0017000000000000001, Vitamin B2 (Rivoflavin): 0.00414, Vitamin C: 0.0, Linoleic Acid: 342.8858, Alpha-Linolenic Acid: 0.6108, )',\n",
       " 'meal 7': 'half-moon rice cake (Energy: 179.2, Protein: 4.72, Fat: 2.192, Carbohydrate: 35.208, Total Dietary: 0.88, Calcium: 24.8, Iron: 0.568, Sodium: 138.4, Vitamin A: 0.0, Vitamin B1 (Thiamine): 0.0208, Vitamin B2 (Rivoflavin): 0.0288, Vitamin C: 0.0, Linoleic Acid: 1002.808, Alpha-Linolenic Acid: 145.424, )',\n",
       " 'meal 8': '(low-sugar) cereal (Energy: 157.6, Protein: 2.72, Fat: 1.1159999999999999, Carbohydrate: 34.132, Total Dietary: 1.32, Calcium: 4.4, Iron: 3.588, Sodium: 220.4, Vitamin A: 403.2, Vitamin B1 (Thiamine): 0.6464, Vitamin B2 (Rivoflavin): 1.3616, Vitamin C: 62.108000000000004, Linoleic Acid: 390.232, Alpha-Linolenic Acid: 16.224, )',\n",
       " 'meal 9': 'Steamed sweet brown rice (40) (Energy: 146.3, Protein: 2.64, Fat: 0.255, Carbohydrate: 31.915, Total Dietary: 0.0, Calcium: 2.7, Iron: 0.665, Sodium: 2.6999999999999997, Vitamin A: 0.09999999990000001, Vitamin B1 (Thiamine): 0.08850000000000001, Vitamin B2 (Rivoflavin): 0.013000000000000001, Vitamin C: 0.0, Linoleic Acid: 0.0, Alpha-Linolenic Acid: 0.0, )',\n",
       " 'meal 10': 'Cuttlefish noodle soup (Energy: 282.68500000000006, Protein: 11.5328, Fat: 1.1506999999999998, Carbohydrate: 53.8936, Total Dietary: 2.426, Calcium: 67.31500000000001, Iron: 0.9599, Sodium: 446.75399999999996, Vitamin A: 75.23250000505, Vitamin B1 (Thiamine): 0.06718, Vitamin B2 (Rivoflavin): 0.06988, Vitamin C: 2.4845, Linoleic Acid: 387.5459, Alpha-Linolenic Acid: 31.106300000000005, )',\n",
       " 'meal 11': 'Bibimbap with herbs (Energy: 209.69999999999996, Protein: 6.6987, Fat: 3.6796999999999995, Carbohydrate: 37.87529999999999, Total Dietary: 2.271, Calcium: 53.76, Iron: 2.0012000000000003, Sodium: 166.83999999999997, Vitamin A: 148.63916668253003, Vitamin B1 (Thiamine): 0.17912, Vitamin B2 (Rivoflavin): 0.29395999999999994, Vitamin C: 19.767, Linoleic Acid: 1510.9305, Alpha-Linolenic Acid: 113.3957, )',\n",
       " 'meal 12': 'Mini udon (white wheat noodles) with fish cake (Energy: 89.35, Protein: 3.58425, Fat: 1.03375, Carbohydrate: 15.7318, Total Dietary: 0.8380000000000001, Calcium: 41.3, Iron: 0.3749, Sodium: 255.06, Vitamin A: 3.0866666666, Vitamin B1 (Thiamine): 0.0391, Vitamin B2 (Rivoflavin): 0.04131, Vitamin C: 0.071, Linoleic Acid: 390.32800000000003, Alpha-Linolenic Acid: 32.4499, )',\n",
       " 'meal 13': 'Seasoned salad with mung bean jelly (Energy: 36.0, Protein: 0.6691999999999999, Fat: 2.0155, Carbohydrate: 4.182300000000001, Total Dietary: 0.131, Calcium: 8.52, Iron: 0.44500000000000006, Sodium: 115.55999999999999, Vitamin A: 34.02333333434, Vitamin B1 (Thiamine): 0.01449, Vitamin B2 (Rivoflavin): 0.06818, Vitamin C: 1.2944, Linoleic Acid: 835.8212, Alpha-Linolenic Acid: 11.774400000000002, )',\n",
       " 'meal 14': 'Chicken nuggets + sauce (Energy: 115.95, Protein: 9.18683, Fat: 5.74692, Carbohydrate: 5.85735, Total Dietary: 0.2903, Calcium: 10.729000000000001, Iron: 0.58892, Sodium: 70.25799999999998, Vitamin A: 28.7693333332, Vitamin B1 (Thiamine): 0.076418, Vitamin B2 (Rivoflavin): 0.116116, Vitamin C: 1.42766, Linoleic Acid: 2452.0192300000003, Alpha-Linolenic Acid: 317.4768, )',\n",
       " 'meal 15': 'Braised chicken and sweet potato in soy sauce (Energy: 106.917, Protein: 8.158829999999998, Fat: 4.38091, Carbohydrate: 8.396489999999998, Total Dietary: 0.7493000000000001, Calcium: 11.072, Iron: 0.56747, Sodium: 125.48400000000001, Vitamin A: 43.445250001767, Vitamin B1 (Thiamine): 0.097108, Vitamin B2 (Rivoflavin): 0.133236, Vitamin C: 2.36886, Linoleic Acid: 53.92748, Alpha-Linolenic Acid: 1.8485700000000005, )',\n",
       " 'meal 16': '(homestyle) roasted pork roll with rice cake (Energy: 89.559, Protein: 9.83132, Fat: 3.92448, Carbohydrate: 3.1820100000000004, Total Dietary: 0.1297, Calcium: 5.367, Iron: 0.7325299999999999, Sodium: 162.25400000000002, Vitamin A: 0.8422500000270001, Vitamin B1 (Thiamine): 0.07761100000000001, Vitamin B2 (Rivoflavin): 0.13639399999999996, Vitamin C: 0.79572, Linoleic Acid: 987.4860100000001, Alpha-Linolenic Acid: 105.26685, )',\n",
       " 'meal 17': 'Steamed eggs with salted pollack roe (Energy: 46.747, Protein: 4.106800000000001, Fat: 2.2635999999999994, Carbohydrate: 2.1368, Total Dietary: 0.24, Calcium: 19.440999999999995, Iron: 0.6459, Sodium: 144.0, Vitamin A: 64.4960000017, Vitamin B1 (Thiamine): 0.032909999999999995, Vitamin B2 (Rivoflavin): 0.15177, Vitamin C: 0.9950000000000001, Linoleic Acid: 333.368, Alpha-Linolenic Acid: 7.702999999999999, )',\n",
       " 'meal 18': 'Stir-fried udon (white wheat noodles) with seafood and green bean sprout (Energy: 104.89699999999999, Protein: 7.576230000000002, Fat: 2.8621999999999996, Carbohydrate: 11.63063, Total Dietary: 0.9983, Calcium: 32.28399999999999, Iron: 1.1652200000000001, Sodium: 323.0539999999999, Vitamin A: 32.381000001734, Vitamin B1 (Thiamine): 0.046068, Vitamin B2 (Rivoflavin): 0.091116, Vitamin C: 3.94386, Linoleic Acid: 1196.43503, Alpha-Linolenic Acid: 142.28094000000002, )',\n",
       " 'meal 19': 'Pan-fried spring parsley (Energy: 70.88, Protein: 2.2081, Fat: 2.5186, Carbohydrate: 9.6196, Total Dietary: 1.228, Calcium: 22.91, Iron: 0.5955999999999999, Sodium: 46.486999999999995, Vitamin A: 61.24833333435, Vitamin B1 (Thiamine): 0.02376, Vitamin B2 (Rivoflavin): 0.05706, Vitamin C: 1.5446, Linoleic Acid: 1145.4001, Alpha-Linolenic Acid: 152.06560000000002, )',\n",
       " 'meal 20': 'Napa cabbage kimchi (Energy: 9.636000000000001, Protein: 0.50409, Fat: 0.06533999999999998, Carbohydrate: 2.03934, Total Dietary: 0.295, Calcium: 13.012000000000002, Iron: 0.22164, Sodium: 287.90799999999996, Vitamin A: 6.340416666477001, Vitamin B1 (Thiamine): 0.049458, Vitamin B2 (Rivoflavin): 0.026364, Vitamin C: 4.276, Linoleic Acid: 35.160329999999995, Alpha-Linolenic Acid: 3.2652900000000002, )'}"
      ]
     },
     "execution_count": 36,
     "metadata": {},
     "output_type": "execute_result"
    }
   ],
   "source": [
    "def parse_nutrition_into_string(nutrition):\n",
    "    nutrition_string = ''\n",
    "    for key in nutrition:\n",
    "        nutrition_string += key + ': ' + str(nutrition[key]) + ', '\n",
    "    return nutrition_string\n",
    "\n",
    "def sample_meal_set_from_arms(arms, sample_menus_df):\n",
    "    meal_set = {}\n",
    "    for i in range(len(arms)):\n",
    "        # if arms[i] contains 'snack', remove 'S' from name\n",
    "        meal = sample_from_menu_category(sample_menus_df, arms[i]).iloc[0]['object']\n",
    "        meal_string = meal.name.replace('S ', '') + ' (' + parse_nutrition_into_string(meal.nutrition) + ')'\n",
    "        meal_set['meal ' + str(i)] = meal_string\n",
    "    return meal_set\n",
    "\n",
    "sample_meal_set_from_arms(arms, sample_menus_df)"
   ]
  },
  {
   "cell_type": "code",
   "execution_count": 39,
   "metadata": {},
   "outputs": [],
   "source": [
    "import numpy as np\n",
    "np.random.seed(1)\n",
    "\n",
    "def BASEFunc_custom(arms, sample_menus_df, T=20, M=10, gridType='geometric', gamma=0.5):\n",
    "    \"\"\"\n",
    "    K = number of arms (number of big diet categories)\n",
    "    T = horizon\n",
    "    M = number of batches during explore phase\n",
    "    gridType = 'minimax', 'geometric', or 'arithmetic'\n",
    "    gamma = tunning parameter\n",
    "    \"\"\"\n",
    "    # get the number of arms\n",
    "    K = len(arms)\n",
    "    if gridType == 'minimax':\n",
    "        a = T**(1/(2 - 2**(1-M)))\n",
    "        TGrid = np.floor(a**(2 - 1/2**(np.arange(0, M))))\n",
    "        TGrid[M-1] = T\n",
    "        TGrid = np.concatenate(([0], TGrid))  # minimax batch grids\n",
    "    elif gridType == 'geometric':\n",
    "        b = T**(1/M)\n",
    "        TGrid = np.floor(b**(np.arange(0, M)))\n",
    "        TGrid[M-1] = T\n",
    "        TGrid = np.concatenate(([0], TGrid))  # geometric batch grids\n",
    "    elif gridType == 'arithmetic':\n",
    "        TGrid = np.floor(np.linspace(0, T, M+1))\n",
    "    \n",
    "    # initialization\n",
    "    activeSet = np.ones(K, dtype=bool)\n",
    "    numberPull = np.zeros(K)\n",
    "    averageReward = np.zeros(K)\n",
    "\n",
    "    for i in range(0, M):\n",
    "        availableK = np.sum(activeSet)\n",
    "        pullNumber = max(np.floor((TGrid[i] - TGrid[i-1])/availableK), 1)\n",
    "        TGrid[i] = availableK * pullNumber + TGrid[i-1]\n",
    "\n",
    "        for j in np.where(activeSet)[0]:\n",
    "            # generate sample_meal_set\n",
    "            sample_meal_set = sample_meal_set_from_arms([arms[j]], sample_menus_df)\n",
    "            reward = get_reward_from_chatgpt(sample_meal_set)\n",
    "            averageReward[j] = averageReward[j] * (numberPull[j]/(numberPull[j] + pullNumber)) + (reward * pullNumber/(numberPull[j] + pullNumber))\n",
    "            # NOTE: can't use the true mu here, because we don't know the true mu\n",
    "            numberPull[j] += pullNumber\n",
    "        \n",
    "        maxArm = np.max(averageReward[activeSet])\n",
    "        for j in np.where(activeSet)[0]:\n",
    "            if (maxArm - averageReward[j]) >= np.sqrt(gamma * np.log(T*K) / numberPull[j]):\n",
    "                activeSet[j] = False\n",
    "        \n",
    "    \n",
    "    return averageReward, numberPull, activeSet"
   ]
  },
  {
   "cell_type": "code",
   "execution_count": null,
   "metadata": {},
   "outputs": [],
   "source": []
  },
  {
   "cell_type": "code",
   "execution_count": 40,
   "metadata": {},
   "outputs": [
    {
     "name": "stdout",
     "output_type": "stream",
     "text": [
      "Fruits (snack)\n",
      "Salad (snack)\n",
      "Milk (snack)\n",
      "Drink (snack)\n",
      "Combo meal (snack)\n",
      "Soup (snack)\n",
      "Nuts (snack)\n",
      "Grains (snack)\n",
      "Cereal (snack)\n",
      "Rice\n",
      "Noodles\n",
      "Combo meal rice\n",
      "Soup\n",
      "Salad\n",
      "Deep fried\n",
      "Braised\n",
      "Grilled\n",
      "Steamed\n",
      "Stir-fried\n",
      "Pancake\n",
      "Kimchi\n",
      "Soup (snack)\n",
      "Cereal (snack)\n",
      "Noodles\n",
      "Combo meal rice\n",
      "Soup\n",
      "Braised\n",
      "Stir-fried\n",
      "Kimchi\n",
      "Soup (snack)\n",
      "Combo meal rice\n",
      "Braised\n",
      "Stir-fried\n",
      "Kimchi\n",
      "Soup (snack)\n",
      "Combo meal rice\n",
      "Braised\n",
      "Stir-fried\n",
      "Braised\n",
      "Braised\n",
      "Braised\n",
      "Braised\n",
      "Braised\n",
      "Braised\n"
     ]
    },
    {
     "data": {
      "text/plain": [
       "(array([3.        , 1.        , 3.        , 1.        , 5.        ,\n",
       "        6.5       , 2.        , 4.        , 6.        , 4.        ,\n",
       "        7.        , 6.5       , 5.        , 4.        , 3.        ,\n",
       "        6.7       , 6.        , 6.        , 6.5       , 5.        ,\n",
       "        6.33333333]),\n",
       " array([ 1.,  1.,  1.,  1.,  1.,  4.,  1.,  1.,  2.,  1.,  2.,  4.,  2.,\n",
       "         1.,  1., 10.,  1.,  1.,  4.,  1.,  3.]),\n",
       " array([False, False, False, False, False, False, False, False, False,\n",
       "        False, False, False, False, False, False,  True, False, False,\n",
       "        False, False, False]))"
      ]
     },
     "execution_count": 40,
     "metadata": {},
     "output_type": "execute_result"
    }
   ],
   "source": [
    "BASEFunc_custom(arms, sample_menus_df)"
   ]
  },
  {
   "cell_type": "code",
   "execution_count": null,
   "metadata": {},
   "outputs": [],
   "source": []
  }
 ],
 "metadata": {
  "kernelspec": {
   "display_name": "Python 3",
   "language": "python",
   "name": "python3"
  },
  "language_info": {
   "codemirror_mode": {
    "name": "ipython",
    "version": 3
   },
   "file_extension": ".py",
   "mimetype": "text/x-python",
   "name": "python",
   "nbconvert_exporter": "python",
   "pygments_lexer": "ipython3",
   "version": "3.8.12"
  },
  "orig_nbformat": 4,
  "vscode": {
   "interpreter": {
    "hash": "6597d1ed23b894caf154b6750f098a8514a19e03807460ffd2d8425103778dc0"
   }
  }
 },
 "nbformat": 4,
 "nbformat_minor": 2
}
