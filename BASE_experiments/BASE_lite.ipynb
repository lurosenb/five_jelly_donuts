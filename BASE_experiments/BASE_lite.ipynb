{
 "cells": [
  {
   "attachments": {},
   "cell_type": "markdown",
   "metadata": {},
   "source": [
    "### Reimplementation of BASEFunc\n",
    "From this repo, for multi armed batch bandit\n",
    "https://github.com/Mathegineer/batched-bandit/blob/master/BASEFunc.m\n",
    "\n",
    "#### TODO: Verify the below works with synthetic data"
   ]
  },
  {
   "attachments": {},
   "cell_type": "markdown",
   "metadata": {},
   "source": [
    "\n",
    "parameters\n",
    "\n",
    "%     K: arms\n",
    "\n",
    "%     TSeq: horizon\n",
    "\n",
    "%     M: number of batches\n",
    "\n",
    "%     b = T^(1/M); TGridAdaptive = floor(b.^(1:M));...,\n",
    "\n",
    "%         TGridAdaptive = floor(TGridAdaptive/K) * K; TGridAdaptive(M) = T; ...,\n",
    "\n",
    "%         TGridAdaptive = [0,TGridAdaptive]; % adaptive batch grids\n",
    "\n",
    "%     a = T^(1/(2 - 2^(1-M))); TGridMinimax = floor(a.^(2.-1./2.^(0:M-1)));...,\n",
    "\n",
    "%     TGridMinimax(M) = T; ...,\n",
    "\n",
    "%     TGridMinimax = [0,TGridMinimax]; % minimax batch grids    \n",
    "\n",
    "%     mu: batch mean\n",
    "\n",
    "%     gamma: tunning parameter"
   ]
  },
  {
   "cell_type": "code",
   "execution_count": 3,
   "metadata": {},
   "outputs": [],
   "source": [
    "K = 3 # number of arms\n",
    "T = 10 # time horizon\n",
    "M = 5 # number of batches\n",
    "gridType = 'geometric' # grid type\n",
    "mu = [0.7] + [0.5] * (K-1) # means\n",
    "gamma = 0.5\n",
    "\n"
   ]
  },
  {
   "cell_type": "code",
   "execution_count": 6,
   "metadata": {},
   "outputs": [],
   "source": [
    "import numpy as np\n",
    "np.random.seed(3)\n",
    "def BASEFunc(mu, K, T, M, gridType, gamma):\n",
    "    # record\n",
    "    regret = 0\n",
    "    if gridType == 'minimax':\n",
    "        a = T**(1/(2 - 2**(1-M)))\n",
    "        TGrid = np.floor(a**(2 - 1/2**(np.arange(0, M))))\n",
    "        TGrid[M-1] = T\n",
    "        TGrid = np.concatenate(([0], TGrid))  # minimax batch grids\n",
    "    elif gridType == 'geometric':\n",
    "        b = T**(1/M)\n",
    "        TGrid = np.floor(b**(np.arange(0, M)))\n",
    "        TGrid[M-1] = T\n",
    "        TGrid = np.concatenate(([0], TGrid))  # geometric batch grids\n",
    "    elif gridType == 'arithmetic':\n",
    "        TGrid = np.floor(np.linspace(0, T, M+1))\n",
    "    \n",
    "    # initialization\n",
    "    activeSet = np.ones(K, dtype=bool)\n",
    "    numberPull = np.zeros(K)\n",
    "    averageReward = np.zeros(K)\n",
    "    print(TGrid)\n",
    "    for i in range(0, M):\n",
    "        availableK = np.sum(activeSet)\n",
    "        print(availableK)\n",
    "        pullNumber = max(np.floor((TGrid[i] - TGrid[i-1])/availableK), 1)\n",
    "        print(pullNumber)\n",
    "        TGrid[i] = availableK * pullNumber + TGrid[i-1]\n",
    "        print(TGrid)\n",
    "        print(np.where(activeSet)[0])\n",
    "        for j in np.where(activeSet)[0]:\n",
    "            reward = np.mean(np.random.randn(int(pullNumber))) + mu[j]\n",
    "            print(np.mean(np.random.randn(int(pullNumber))))\n",
    "            print(reward)\n",
    "            averageReward[j] = averageReward[j] * (numberPull[j]/(numberPull[j] + pullNumber)) + (reward * pullNumber/(numberPull[j] + pullNumber))\n",
    "            print(averageReward)\n",
    "            regret += pullNumber * (mu[0] - mu[j])\n",
    "            print(regret)\n",
    "            numberPull[j] += pullNumber\n",
    "        maxArm = np.max(averageReward[activeSet])\n",
    "        for j in np.where(activeSet)[0]:\n",
    "            if (maxArm - averageReward[j]) >= np.sqrt(gamma * np.log(T*K) / numberPull[j]):\n",
    "                activeSet[j] = False\n",
    "    \n",
    "    return regret, activeSet"
   ]
  },
  {
   "cell_type": "code",
   "execution_count": 7,
   "metadata": {},
   "outputs": [
    {
     "name": "stdout",
     "output_type": "stream",
     "text": [
      "[ 0.  1.  1.  2.  3. 10.]\n",
      "3\n",
      "1\n",
      "[13.  1.  1.  2.  3. 10.]\n",
      "[0 1 2]\n",
      "0.43650985051198943\n",
      "2.4886284734303183\n",
      "[2.48862847 0.         0.        ]\n",
      "0.0\n",
      "-1.8634927033644908\n",
      "0.5964974680720087\n",
      "[2.48862847 0.59649747 0.        ]\n",
      "0.19999999999999996\n",
      "-0.35475897926898675\n",
      "0.22261179748560095\n",
      "[2.48862847 0.59649747 0.2226118 ]\n",
      "0.3999999999999999\n",
      "1\n",
      "1\n",
      "[13. 14.  1.  2.  3. 10.]\n",
      "[0]\n",
      "-0.6270006768238473\n",
      "0.6172585185175402\n",
      "[1.5529435  0.59649747 0.2226118 ]\n",
      "0.3999999999999999\n",
      "1\n",
      "1\n",
      "[13. 14. 15.  2.  3. 10.]\n",
      "[0]\n",
      "-0.47721803035950267\n",
      "0.6561818310240717\n",
      "[1.25402294 0.59649747 0.2226118 ]\n",
      "0.3999999999999999\n",
      "1\n",
      "1\n",
      "[13. 14. 15. 16.  3. 10.]\n",
      "[0]\n",
      "0.8846223804995846\n",
      "-0.6138647533626822\n",
      "[0.78705102 0.59649747 0.2226118 ]\n",
      "0.3999999999999999\n",
      "1\n",
      "1\n",
      "[13. 14. 15. 16. 17. 10.]\n",
      "[0]\n",
      "1.7095730636529485\n",
      "1.58131804220753\n",
      "[0.94590442 0.59649747 0.2226118 ]\n",
      "0.3999999999999999\n"
     ]
    },
    {
     "data": {
      "text/plain": [
       "(0.3999999999999999, array([ True, False, False]))"
      ]
     },
     "execution_count": 7,
     "metadata": {},
     "output_type": "execute_result"
    }
   ],
   "source": [
    "BASEFunc(mu, K, T, M, gridType, gamma)"
   ]
  },
  {
   "cell_type": "code",
   "execution_count": null,
   "metadata": {},
   "outputs": [],
   "source": []
  }
 ],
 "metadata": {
  "kernelspec": {
   "display_name": "Python 3",
   "language": "python",
   "name": "python3"
  },
  "language_info": {
   "codemirror_mode": {
    "name": "ipython",
    "version": 3
   },
   "file_extension": ".py",
   "mimetype": "text/x-python",
   "name": "python",
   "nbconvert_exporter": "python",
   "pygments_lexer": "ipython3",
   "version": "3.8.12"
  },
  "orig_nbformat": 4,
  "vscode": {
   "interpreter": {
    "hash": "6597d1ed23b894caf154b6750f098a8514a19e03807460ffd2d8425103778dc0"
   }
  }
 },
 "nbformat": 4,
 "nbformat_minor": 2
}
