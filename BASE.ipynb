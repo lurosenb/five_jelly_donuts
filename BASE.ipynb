{
 "cells": [
  {
   "attachments": {},
   "cell_type": "markdown",
   "metadata": {},
   "source": [
    "### Reimplementation of BASEFunc\n",
    "From this repo, for multi armed batch bandit\n",
    "https://github.com/Mathegineer/batched-bandit/blob/master/BASEFunc.m\n",
    "\n",
    "#### TODO: Verify the below works with synthetic data"
   ]
  },
  {
   "cell_type": "code",
   "execution_count": null,
   "metadata": {},
   "outputs": [],
   "source": [
    "import numpy as np\n",
    "\n",
    "def BASEFunc(mu, K, T, M, gridType, gamma):\n",
    "    # record\n",
    "    regret = 0\n",
    "    if gridType == 'minimax':\n",
    "        a = T**(1/(2 - 2**(1-M)))\n",
    "        TGrid = np.floor(a**(2 - 1/2**(np.arange(0, M))))\n",
    "        TGrid[M] = T\n",
    "        TGrid = np.concatenate(([0], TGrid))  # minimax batch grids\n",
    "    elif gridType == 'geometric':\n",
    "        b = T**(1/M)\n",
    "        TGrid = np.floor(b**(np.arange(1, M+1)))\n",
    "        TGrid[M] = T\n",
    "        TGrid = np.concatenate(([0], TGrid))  # geometric batch grids\n",
    "    elif gridType == 'arithmetic':\n",
    "        TGrid = np.floor(np.linspace(0, T, M+1))\n",
    "    \n",
    "    # initialization\n",
    "    activeSet = np.ones(K, dtype=bool)\n",
    "    numberPull = np.zeros(K)\n",
    "    averageReward = np.zeros(K)\n",
    "    \n",
    "    for i in range(1, M+1):\n",
    "        availableK = np.sum(activeSet)\n",
    "        pullNumber = max(np.floor((TGrid[i] - TGrid[i-1])/availableK), 1)\n",
    "        TGrid[i] = availableK * pullNumber + TGrid[i-1]\n",
    "        for j in np.where(activeSet)[0]:\n",
    "            reward = np.mean(np.random.randn(int(pullNumber))) + mu[j]\n",
    "            averageReward[j] = averageReward[j] * (numberPull[j]/(numberPull[j] + pullNumber)) + (reward * pullNumber/(numberPull[j] + pullNumber))\n",
    "            regret += pullNumber * (mu[0] - mu[j])\n",
    "            numberPull[j] += pullNumber\n",
    "        maxArm = np.max(averageReward[activeSet])\n",
    "        for j in np.where(activeSet)[0]:\n",
    "            if (maxArm - averageReward[j]) >= np.sqrt(gamma * np.log(T*K) / numberPull[j]):\n",
    "                activeSet[j] = False\n",
    "    \n",
    "    return regret, activeSet"
   ]
  },
  {
   "cell_type": "code",
   "execution_count": null,
   "metadata": {},
   "outputs": [],
   "source": []
  }
 ],
 "metadata": {
  "kernelspec": {
   "display_name": "Python 3",
   "language": "python",
   "name": "python3"
  },
  "language_info": {
   "name": "python",
   "version": "3.10.10"
  },
  "orig_nbformat": 4,
  "vscode": {
   "interpreter": {
    "hash": "bd385fe162c5ca0c84973b7dd5c518456272446b2b64e67c2a69f949ca7a1754"
   }
  }
 },
 "nbformat": 4,
 "nbformat_minor": 2
}
